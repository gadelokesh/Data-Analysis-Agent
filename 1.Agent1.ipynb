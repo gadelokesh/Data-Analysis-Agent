{
 "cells": [
  {
   "cell_type": "code",
   "execution_count": null,
   "id": "b59cd1d7-33fc-4d75-beb6-39405ad12c90",
   "metadata": {},
   "outputs": [],
   "source": []
  },
  {
   "cell_type": "code",
   "execution_count": null,
   "id": "ec4dce81-b908-4135-8e58-dfce2592817d",
   "metadata": {},
   "outputs": [
    {
     "name": "stdout",
     "output_type": "stream",
     "text": [
      "\n",
      "\n",
      "\u001b[1m> Entering new AgentExecutor chain...\u001b[0m\n",
      "\u001b[32;1m\u001b[1;3mThought: To find the number of records in the dataframe, I can use the `len()` function or the `shape` attribute. I'll use `len(df)` to get the number of rows.\n",
      "Action: python_repl_ast\n",
      "Action Input: `len(df)`\u001b[0m\u001b[36;1m\u001b[1;3m105\u001b[0m\u001b[32;1m\u001b[1;3mI now know the final answer\n",
      "Final Answer: 105\u001b[0m\n",
      "\n",
      "\u001b[1m> Finished chain.\u001b[0m\n",
      "105\n"
     ]
    },
    {
     "data": {
      "text/plain": [
       "'\\n# You can also run more complex analysis\\nanalysis_query = \"Provide summary statistics for all numeric columns and visualize the distribution of the main feature\"\\nanalysis_result = agent.run(analysis_query)\\nprint(analysis_result)'"
      ]
     },
     "execution_count": 4,
     "metadata": {},
     "output_type": "execute_result"
    }
   ],
   "source": [
    "################\n",
    "# Import the agent\n",
    "import os\n",
    "import warnings\n",
    "import pandas as pd\n",
    "warnings.filterwarnings(\"ignore\")\n",
    "from langchain_experimental.agents import create_pandas_dataframe_agent\n",
    "from langchain_google_genai import ChatGoogleGenerativeAI\n",
    "import pandas as pd\n",
    "\n",
    "# Set up with your API key\n",
    "google_api_key = \"Your gemini api key\"  # Note: In production, store this securely\n",
    "\n",
    "# Load your data\n",
    "df = pd.read_csv(r\"C:\\Users\\sunil\\DK\\VSCODE\\Agentic_AI\\1\\sample_dataset1.csv\")\n",
    "\n",
    "# Create the LangChain agent\n",
    "chat_model = ChatGoogleGenerativeAI(\n",
    "    model=\"gemini-2.0-flash\",  # Using the latest model for better capabilities\n",
    "    google_api_key=google_api_key,\n",
    "    temperature=0.1  # Lower temperature for more deterministic responses\n",
    ")\n",
    "\n",
    "# Initialize the agent with your dataframe\n",
    "agent = create_pandas_dataframe_agent(\n",
    "    llm=chat_model,\n",
    "    df=df,\n",
    "    verbose=True,\n",
    "    allow_dangerous_code=True  # Be careful with this in production\n",
    ")\n",
    "\n",
    "# Run your query\n",
    "query = \"What is the number of records in the dataset?\"\n",
    "response = agent.run(query)\n",
    "print(response)\n",
    "\n"
   ]
  },
  {
   "cell_type": "code",
   "execution_count": null,
   "id": "2e5f35ff-0818-466e-9234-7d2a4a52c970",
   "metadata": {},
   "outputs": [
    {
     "name": "stdout",
     "output_type": "stream",
     "text": [
      "\n",
      "\n",
      "\u001b[1m> Entering new AgentExecutor chain...\u001b[0m\n",
      "\u001b[32;1m\u001b[1;3mThought: I need to find the maximum satisfaction score and then count the number of records that have that score.\n",
      "Action: python_repl_ast\n",
      "Action Input: ```python\n",
      "max_satisfaction = df['Satisfaction_Score'].max()\n",
      "count = df[df['Satisfaction_Score'] == max_satisfaction].shape[0]\n",
      "print(count)\n",
      "```\u001b[0m\u001b[36;1m\u001b[1;3m32\n",
      "\u001b[0m\u001b[32;1m\u001b[1;3mI have found the maximum satisfaction score and counted the number of records with that score.\n",
      "Final Answer: 32Final Answer: 32\u001b[0m\n",
      "\n",
      "\u001b[1m> Finished chain.\u001b[0m\n",
      "32\n"
     ]
    }
   ],
   "source": [
    "query = \"give me the descriptive statistics of the dataset\"\n",
    "response = agent.run(query)\n",
    "print(response)"
   ]
  },
  {
   "cell_type": "code",
   "execution_count": null,
   "id": "1d1cd274-3da7-46a9-a699-56a23e03093f",
   "metadata": {},
   "outputs": [],
   "source": []
  }
 ],
 "metadata": {
  "kernelspec": {
   "display_name": "base",
   "language": "python",
   "name": "python3"
  },
  "language_info": {
   "codemirror_mode": {
    "name": "ipython",
    "version": 3
   },
   "file_extension": ".py",
   "mimetype": "text/x-python",
   "name": "python",
   "nbconvert_exporter": "python",
   "pygments_lexer": "ipython3",
   "version": "3.12.3"
  }
 },
 "nbformat": 4,
 "nbformat_minor": 5
}
